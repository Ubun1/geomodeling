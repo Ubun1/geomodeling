{
 "cells": [
  {
   "cell_type": "code",
   "execution_count": 1,
   "metadata": {},
   "outputs": [
    {
     "data": {
      "image/png": "[encoded data removed]",
      "text/plain": [
       "<matplotlib.figure.Figure at 0x7fa720836b00>"
      ]
     },
     "metadata": {},
     "output_type": "display_data"
    },
    {
     "name": "stdout",
     "output_type": "stream",
     "text": [
      "[1.1999999999999995, 1.9999999999999996, 3.5999999999999996, 2.7999999999999998, 4.3999999999999995]\n",
      "RMSE: 0.693\n"
     ]
    }
   ],
   "source": [
    "# Standalone simple linear regression example\n",
    "from math import sqrt\n",
    "import matplotlib.pyplot as plt\n",
    "import numpy as np\n",
    "\n",
    "# Calculate the mean value of a list of numbers\n",
    "def mean(values):\n",
    "\treturn sum(values) / float(len(values))\n",
    " \n",
    "# Calculate covariance between x and y\n",
    "def covariance(x, mean_x, y, mean_y):\n",
    "\tcovar = 0.0\n",
    "\tfor i in range(len(x)):\n",
    "\t\tcovar += (x[i] - mean_x) * (y[i] - mean_y)\n",
    "\treturn covar\n",
    " \n",
    "# Calculate the variance of a list of numbers\n",
    "def variance(values, mean):\n",
    "\treturn sum([(x-mean)**2 for x in values])\n",
    " \n",
    "# Calculate coefficients\n",
    "def coefficients(dataset):\n",
    "\tx = [row[0] for row in dataset]\n",
    "\ty = [row[1] for row in dataset]\n",
    "\tx_mean, y_mean = mean(x), mean(y)\n",
    "\tb1 = covariance(x, x_mean, y, y_mean) / variance(x, x_mean)\n",
    "\tb0 = y_mean - b1 * x_mean\n",
    "\treturn [b0, b1]\n",
    "\n",
    "# Calculate root mean squared error\n",
    "def rmse_metric(actual, predicted):\n",
    "\tsum_error = 0.0\n",
    "\tfor i in range(len(actual)):\n",
    "\t\tprediction_error = predicted[i] - actual[i]\n",
    "\t\tsum_error += (prediction_error ** 2)\n",
    "\tmean_error = sum_error / float(len(actual))\n",
    "\treturn sqrt(mean_error)\n",
    " \n",
    "##########################################\n",
    "# Plot linear regression\n",
    "##########################################\n",
    "def simple_linear_regression(train, test):\n",
    "\tpredictions = list()\n",
    "\tx_arr = list()\n",
    "\tb0, b1 = coefficients(train)\n",
    "\tfor row in test:\n",
    "\t\tx = row[0]\n",
    "\t\tyhat = b0 + b1 * x\n",
    "\t\tpredictions.append(yhat)\n",
    "\t\tx_arr.append(x)\n",
    "\tplt.plot(test, 'ro')\n",
    "\tplt.plot([x - 1 for x in x_arr], [pr  for pr in predictions])\n",
    "\tplt.show()\n",
    "\treturn predictions\n",
    " \n",
    "##########################################\n",
    "# Compute linear regression\n",
    "##########################################\n",
    "def evaluate_algorithm(dataset, algorithm):\n",
    "\ttest_set = list()\n",
    "\tfor row in dataset:\n",
    "\t\trow_copy = list(row)\n",
    "\t\trow_copy[-1] = None\n",
    "\t\ttest_set.append(row_copy)\n",
    "\tpredicted = algorithm(dataset, test_set)\n",
    "\tprint(predicted)\n",
    "\tactual = [row[-1] for row in dataset]\n",
    "\trmse = rmse_metric(actual, predicted)\n",
    "\treturn rmse, predicted\n",
    "\n",
    "##########################################\n",
    "# Test data\n",
    "##########################################\n",
    "dataset = np.array([[1, 1], [2, 3], [4, 3], [3, 2], [5, 5]])\n",
    "\n",
    "##########################################\n",
    "# Output\n",
    "##########################################\n",
    "rmse, predicted = evaluate_algorithm(dataset, simple_linear_regression)\n",
    "print('RMSE: %.3f' % (rmse))\n"
   ]
  },
  {
   "cell_type": "code",
   "execution_count": null,
   "metadata": {},
   "outputs": [],
   "source": []
  }
 ],
 "metadata": {
  "kernelspec": {
   "display_name": "Python 3",
   "language": "python",
   "name": "python3"
  },
  "language_info": {
   "codemirror_mode": {
    "name": "ipython",
    "version": 3
   },
   "file_extension": ".py",
   "mimetype": "text/x-python",
   "name": "python",
   "nbconvert_exporter": "python",
   "pygments_lexer": "ipython3",
   "version": "3.6.3"
  }
 },
 "nbformat": 4,
 "nbformat_minor": 2
}
