{
 "cells": [
  {
   "cell_type": "markdown",
   "metadata": {},
   "source": [
    "Natural Cubic Spline Alg\n",
    "============="
   ]
  },
  {
   "cell_type": "markdown",
   "metadata": {},
   "source": [
    "**Input**: set of coordinates $C$ with $|C|=n+1$"
   ]
  },
  {
   "cell_type": "code",
   "execution_count": 144,
   "metadata": {},
   "outputs": [],
   "source": [
    "C = [{'x': 1, 'y': 2}, {'x': 3, 'y': 4}, {'x': 5, 'y': 6}, {'x': 7, 'y': 8}, {'x': 9, 'y': 10}]\n",
    "n = len(C) - 1"
   ]
  },
  {
   "cell_type": "markdown",
   "metadata": {},
   "source": [
    "**Output**: set splines which is composed of $n$ 5-tuples."
   ]
  },
  {
   "cell_type": "markdown",
   "metadata": {},
   "source": [
    "Create new array $a$ of size $n + 1$ and for $ i = 0,\\dots,n$ set $a_i = y_i$"
   ]
  },
  {
   "cell_type": "code",
   "execution_count": 145,
   "metadata": {},
   "outputs": [],
   "source": [
    "a = [C[i]['y'] for i in range(n + 1)] # array"
   ]
  },
  {
   "cell_type": "markdown",
   "metadata": {},
   "source": [
    "Create new arrays $b$ and $d$ each of size $n$."
   ]
  },
  {
   "cell_type": "code",
   "execution_count": 146,
   "metadata": {},
   "outputs": [],
   "source": [
    "b = [0] * n\n",
    "d = [0] * n"
   ]
  },
  {
   "cell_type": "markdown",
   "metadata": {},
   "source": [
    "Create new array $h$ of size $n$ and for $ i = 0,\\dots,n-1$ set $h_i = x_{i+1} - x_i$"
   ]
  },
  {
   "cell_type": "code",
   "execution_count": 147,
   "metadata": {},
   "outputs": [],
   "source": [
    "h = [C[i+1]['x'] - C[i]['x'] for i in range(n)] # or range(n - 1)"
   ]
  },
  {
   "cell_type": "markdown",
   "metadata": {},
   "source": [
    "Create new array $\\alpha$ of size $n$ and for $ i = 0,\\dots,n-1$ set $\\alpha_i = 3/h_i*(a_{i+1}-a_i) - 3/h_{i-1}*(a_i - a_{i-1})$"
   ]
  },
  {
   "cell_type": "code",
   "execution_count": 148,
   "metadata": {},
   "outputs": [],
   "source": [
    "alpha = [3/h[i]*(a[i+1]-a[i]) - 3/h[i-1]*(a[i] - a[i-1]) for i in range(n)]"
   ]
  },
  {
   "cell_type": "markdown",
   "metadata": {},
   "source": [
    "Create new arrays $c$, $l$, $\\mu$, and $z$ each of size $n+1$"
   ]
  },
  {
   "cell_type": "code",
   "execution_count": 149,
   "metadata": {},
   "outputs": [],
   "source": [
    "c = [0] * (n + 1) \n",
    "l = [0] * (n + 1)\n",
    "mu = [0] * (n + 1)\n",
    "z = [0] * (n + 1)"
   ]
  },
  {
   "cell_type": "markdown",
   "metadata": {},
   "source": [
    "Set $l_0=1$; Set $\\mu_0 = z_0 = 0$  "
   ]
  },
  {
   "cell_type": "code",
   "execution_count": 150,
   "metadata": {},
   "outputs": [],
   "source": [
    "l[0] = 1\n",
    "mu[0] = z[0] = 0"
   ]
  },
  {
   "cell_type": "markdown",
   "metadata": {},
   "source": [
    "For $ i = 0,\\dots,n-1$ \n",
    "1. Set $l_i = 2*(x_{i+1} - x_{i-1}) - h_{i-1}*\\mu_{i-1}$\n",
    "2. Set $\\mu_i = \\frac{h_i}{l_i}$\n",
    "3. Set $z_i = (\\alpha_i - h_{i-1}*z_{i-1})\\ l_i$"
   ]
  },
  {
   "cell_type": "code",
   "execution_count": 151,
   "metadata": {},
   "outputs": [],
   "source": [
    "for i in range(n):\n",
    "    l[i] = 2 * (C[i+1]['x'] - C[i - 1]['x']) - h[i-1] * mu[i-1]\n",
    "    mu[i] = h[i]/l[i]\n",
    "    z[i] = (alpha[i] - h[i-1]*z[i-1])/l[i]"
   ]
  },
  {
   "cell_type": "markdown",
   "metadata": {},
   "source": [
    "Set $l_n = 1; z_n = c_n = 0$"
   ]
  },
  {
   "cell_type": "code",
   "execution_count": 152,
   "metadata": {},
   "outputs": [
    {
     "data": {
      "text/plain": [
       "5"
      ]
     },
     "execution_count": 152,
     "metadata": {},
     "output_type": "execute_result"
    }
   ],
   "source": [
    "l[n] = 1\n",
    "z[n] = c[n] = 0\n",
    "len(c)"
   ]
  },
  {
   "cell_type": "markdown",
   "metadata": {},
   "source": [
    "For $j = n - 1, n -2, \\dots, 0$\n",
    "1. Set $c_j = z_j - \\mu_j * c_{j+1}$\n",
    "2. Set $b_j = (a_{j+1} - a_j)/h_j - h_j*(c_{j+1} + 2 * c_j)/ 3$\n",
    "3. Set $d_j = (c_{j+1} - c_j)/3*h_j$"
   ]
  },
  {
   "cell_type": "code",
   "execution_count": 153,
   "metadata": {},
   "outputs": [],
   "source": [
    "for j in range(n-1, -1, -1):\n",
    "    c[j] = z[j] - mu[j] * c[j+1]\n",
    "    b[j] = (a[j+1] - a[j])/h[j] - h[j]*(c[j+1] + 2 * c[j])/3\n",
    "    d[j] = (c[j+1] - c[j])/(3*h[j])"
   ]
  },
  {
   "cell_type": "markdown",
   "metadata": {},
   "source": [
    "Create new set Splines and call it output_set. Populate it with n splines S."
   ]
  },
  {
   "cell_type": "code",
   "execution_count": 154,
   "metadata": {},
   "outputs": [],
   "source": [
    "output_splines = [0] * n\n",
    "S = {'a': 0, 'b': 0, 'c': 0, 'd': 0, 'x':0}"
   ]
  },
  {
   "cell_type": "markdown",
   "metadata": {},
   "source": [
    "For $ i = 0,\\dots,n-1$ \n",
    "1. Set $S_{i,a} = a_i$\n",
    "2. Set $S_{i,b} = b_i$\n",
    "3. Set $S_{i,c} = c_i$\n",
    "4. Set $S_{i,d} = d_i$\n",
    "5. Set $S_{i,x} = x_i$"
   ]
  },
  {
   "cell_type": "code",
   "execution_count": 155,
   "metadata": {},
   "outputs": [
    {
     "name": "stdout",
     "output_type": "stream",
     "text": [
      "0\n",
      "1\n",
      "2\n",
      "3\n"
     ]
    }
   ],
   "source": [
    "for i in range(n):\n",
    "    S['a'] = a[i]\n",
    "    S['b'] = b[i]\n",
    "    S['c'] = c[i]\n",
    "    S['d'] = d[i]\n",
    "    S['x'] = C[i]['x']\n",
    "    output_splines[i] = S"
   ]
  },
  {
   "cell_type": "code",
   "execution_count": null,
   "metadata": {},
   "outputs": [],
   "source": []
  },
  {
   "cell_type": "code",
   "execution_count": null,
   "metadata": {},
   "outputs": [],
   "source": []
  }
 ],
 "metadata": {
  "kernelspec": {
   "display_name": "Python 3",
   "language": "python",
   "name": "python3"
  },
  "language_info": {
   "codemirror_mode": {
    "name": "ipython",
    "version": 3
   },
   "file_extension": ".py",
   "mimetype": "text/x-python",
   "name": "python",
   "nbconvert_exporter": "python",
   "pygments_lexer": "ipython3",
   "version": "3.6.3"
  }
 },
 "nbformat": 4,
 "nbformat_minor": 2
}
