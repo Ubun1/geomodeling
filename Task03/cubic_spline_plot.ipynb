{
 "cells": [
  {
   "cell_type": "code",
   "execution_count": 1,
   "metadata": {},
   "outputs": [
    {
     "name": "stdout",
     "output_type": "stream",
     "text": [
      "{'a': 1, 'b': 2.39922480620155, 'c': -0.622093023255814, 'd': -0.03875968992248061, 'x': 1}\n",
      "{'a': 3, 'b': -0.5542635658914727, 'c': -0.8546511627906976, 'd': 0.315891472868217, 'x': 3}\n",
      "{'a': 1, 'b': -0.18217054263565857, 'c': 1.0406976744186045, 'd': -0.22480620155038755, 'x': 5}\n",
      "{'a': 3, 'b': 1.2829457364341086, 'c': -0.3081395348837209, 'd': 0.034237726098191215, 'x': 7}\n"
     ]
    },
    {
     "data": {
      "image/png": "[encoded data removed]",
      "text/plain": [
       "<matplotlib.figure.Figure at 0x7fe679dccb38>"
      ]
     },
     "metadata": {},
     "output_type": "display_data"
    }
   ],
   "source": [
    "from numpy import poly1d, arange\n",
    "import matplotlib.pyplot as plt\n",
    "import copy\n",
    "\n",
    "def calc_coef(C): \n",
    "    if C == None: C = [\n",
    "        {'x': 1, 'y': 2}, \n",
    "        {'x': 3, 'y': 4}, \n",
    "        {'x': 5, 'y': 6}, \n",
    "        {'x': 7, 'y': 8}, \n",
    "        {'x': 9,  'y': 10}\n",
    "    ]\n",
    "    \n",
    "    n = len(C) - 1\n",
    "\n",
    "    a = [C[i]['y'] for i in range(n + 1)] # array\n",
    "    b = [0] * n\n",
    "    d = [0] * n\n",
    "    h = [C[i+1]['x'] - C[i]['x'] for i in range(n)] # or range(n - 1)\n",
    "    alpha = [3/h[i]*(a[i+1]-a[i]) - 3/h[i-1]*(a[i] - a[i-1]) for i in range(n)]\n",
    "\n",
    "    c = [0] * (n + 1) \n",
    "    l = [0] * (n + 1)\n",
    "    mu = [0] * (n + 1)\n",
    "    z = [0] * (n + 1)\n",
    "\n",
    "    l[0] = 1\n",
    "    mu[0] = z[0] = 0\n",
    "\n",
    "    for i in range(n):\n",
    "        l[i] = 2 * (C[i+1]['x'] - C[i - 1]['x']) - h[i-1] * mu[i-1]\n",
    "        mu[i] = h[i]/l[i]\n",
    "        z[i] = (alpha[i] - h[i-1]*z[i-1])/l[i]\n",
    "\n",
    "    l[n] = 1\n",
    "    z[n] = c[n] = 0\n",
    "    len(c)\n",
    "\n",
    "    for j in range(n-1, -1, -1):\n",
    "        c[j] = z[j] - mu[j] * c[j+1]\n",
    "        b[j] = (a[j+1] - a[j])/h[j] - h[j]*(c[j+1] + 2 * c[j])/3\n",
    "        d[j] = (c[j+1] - c[j])/(3*h[j])\n",
    "\n",
    "    output_splines = [0] * n\n",
    "    S = {'a': 0, 'b': 0, 'c': 0, 'd': 0, 'x':0}\n",
    "\n",
    "    for i in range(n):\n",
    "        S['a'] = a[i]\n",
    "        S['b'] = b[i]\n",
    "        S['c'] = c[i]\n",
    "        S['d'] = d[i]\n",
    "        S['x'] = C[i]['x']\n",
    "        output_splines[i] = copy.copy(S)\n",
    "    return output_splines\n",
    "\n",
    "def cub_graph(a,b,c,d, x_i, x_i_1):\n",
    "    \"\"\"cub_graph takes the i'th coefficient set along with the x[i] and x[i+1]'th\n",
    "       data pts, and constructs the polynomial spline between the two data pts using\n",
    "       the poly1d python object (which simply returns a polynomial with a given root.\"\"\"\n",
    "\n",
    "    # notice here that we are just building the cubic polynomial piece by piece\n",
    "    root = poly1d(x_i,True)\n",
    "    poly = 0\n",
    "    poly = d*(root)**3\n",
    "    poly = poly + c*(root)**2\n",
    "    poly = poly + b*root\n",
    "    poly = poly + a\n",
    "\n",
    "    # Set up our domain between data points, and plot the function\n",
    "    pts = arange(x_i,x_i_1, 0.001)\n",
    "    plt.plot(pts, poly(pts), '-')\n",
    "    return\n",
    "\n",
    "##########################################\n",
    "# initial values\n",
    "##########################################\n",
    "C = [   \n",
    "        {'x': 1, 'y': 1}, \n",
    "        {'x': 3, 'y': 3}, \n",
    "        {'x': 5, 'y': 1}, \n",
    "        {'x': 7, 'y': 3}, \n",
    "        {'x': 10, 'y': 5}\n",
    "    ]\n",
    "\n",
    "##########################################\n",
    "# calc spline coeff\n",
    "##########################################\n",
    "S = calc_coef(C)\n",
    "\n",
    "##########################################\n",
    "# show plot\n",
    "##########################################\n",
    "x = [C[i]['x'] for i in range(len(C))]\n",
    "for j in range(len(S)):\n",
    "    print(S[j])\n",
    "    cub_graph(S[j]['a'],S[j]['b'],S[j]['c'],S[j]['d'],x[j], x[j+1])\n",
    "plt.show()\n"
   ]
  },
  {
   "cell_type": "code",
   "execution_count": null,
   "metadata": {},
   "outputs": [],
   "source": []
  }
 ],
 "metadata": {
  "kernelspec": {
   "display_name": "Python 3",
   "language": "python",
   "name": "python3"
  },
  "language_info": {
   "codemirror_mode": {
    "name": "ipython",
    "version": 3
   },
   "file_extension": ".py",
   "mimetype": "text/x-python",
   "name": "python",
   "nbconvert_exporter": "python",
   "pygments_lexer": "ipython3",
   "version": "3.6.3"
  }
 },
 "nbformat": 4,
 "nbformat_minor": 2
}
